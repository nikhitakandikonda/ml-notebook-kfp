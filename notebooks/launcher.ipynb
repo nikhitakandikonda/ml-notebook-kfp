{
 "cells": [
  {
   "cell_type": "markdown",
   "metadata": {},
   "source": [
    "## Launcher notebook\n",
    "\n",
    "This notebook shows how to launch the flights_model.ipynb notebook either in Deep Learning VM or on Kubeflow pipelines"
   ]
  },
  {
   "cell_type": "code",
   "execution_count": 23,
   "metadata": {},
   "outputs": [],
   "source": [
    "# change these to try this notebook out\n",
    "BUCKET = 'hostedkfp-default-bmeiqdunw2'\n",
    "PROJECT = 'ma-poc-automation'\n",
    "REGION = 'us-central1'"
   ]
  },
  {
   "cell_type": "code",
   "execution_count": 2,
   "metadata": {},
   "outputs": [],
   "source": [
    "import os\n",
    "os.environ['BUCKET'] = BUCKET\n",
    "os.environ['PROJECT'] = PROJECT\n",
    "os.environ['REGION'] = REGION"
   ]
  },
  {
   "cell_type": "code",
   "execution_count": null,
   "metadata": {},
   "outputs": [],
   "source": [
    "!pip install https://storage.googleapis.com/ml-pipeline/release/0.5.0/kfp.tar.gz --upgrade"
   ]
  },
  {
   "cell_type": "markdown",
   "metadata": {},
   "source": [
    "### Create the pipeline"
   ]
  },
  {
   "cell_type": "code",
   "execution_count": 16,
   "metadata": {},
   "outputs": [
    {
     "name": "stdout",
     "output_type": "stream",
     "text": [
      "flights_pipeline.tar.gz\n"
     ]
    }
   ],
   "source": [
    "import kfp.components as comp\n",
    "import kfp.dsl as dsl\n",
    "\n",
    "# a single-op pipeline that runs the flights pipeline on the pod\n",
    "@dsl.pipeline(\n",
    "   name='FlightsPipeline',\n",
    "   description='Trains, deploys flights model'\n",
    ")\n",
    "def flights_pipeline(\n",
    "    model_name = 'modelname',\n",
    "    model_version = 'version',\n",
    "    model_bucket = 'params'\n",
    "):\n",
    "    notebookop = dsl.ContainerOp(\n",
    "      name='flightsmodel',\n",
    "      # image needs to be a compile-time string\n",
    "      image='gcr.io/ma-poc-automation/submitnotebook:latest',\n",
    "      arguments=[\n",
    "        model_bucket\n",
    "      ],\n",
    "        file_outputs={'train': '/output.txt'}\n",
    "    )\n",
    "    \n",
    "    deploy_cmle = dsl.ContainerOp(\n",
    "      name='deploycmle',\n",
    "      # image needs to be a compile-time string\n",
    "      image='gcr.io/ma-poc-automation/notebook-deploycmle:latest',\n",
    "      arguments=[\n",
    "        notebookop.outputs['train'],  # modeldir\n",
    "        model_name,\n",
    "        model_version\n",
    "      ],\n",
    "      file_outputs={\n",
    "        'model': '/model.txt',\n",
    "        'version': '/version.txt'\n",
    "      }\n",
    "    )\n",
    "# compile the pipeline\n",
    "pipeline_func = flights_pipeline\n",
    "pipeline_filename = pipeline_func.__name__ + '.tar.gz'\n",
    "import kfp.compiler as compiler\n",
    "compiler.Compiler().compile(pipeline_func =pipeline_func, package_path=pipeline_filename)\n",
    "print(pipeline_filename)"
   ]
  },
  {
   "cell_type": "code",
   "execution_count": 12,
   "metadata": {},
   "outputs": [
    {
     "data": {
      "text/plain": [
       "'flights_pipeline.tar.gz'"
      ]
     },
     "execution_count": 12,
     "metadata": {},
     "output_type": "execute_result"
    }
   ],
   "source": [
    "pipeline_filename"
   ]
  },
  {
   "cell_type": "code",
   "execution_count": 27,
   "metadata": {},
   "outputs": [],
   "source": [
    "GCSDIR='gs://{}/flights/notebook'.format(BUCKET)\n",
    "arguments = {\n",
    "     'model_name' : 'flights',\n",
    "    'model_version' : 'flt_1',\n",
    "    'model_bucket': BUCKET,\n",
    "}\n",
    "\n"
   ]
  },
  {
   "cell_type": "code",
   "execution_count": 17,
   "metadata": {},
   "outputs": [],
   "source": [
    "import kfp\n",
    "import kfp.components as comp\n",
    "client = kfp.Client(host='226b3e95823f7b5e-dot-us-central2.pipelines.googleusercontent.com')"
   ]
  },
  {
   "cell_type": "code",
   "execution_count": 19,
   "metadata": {},
   "outputs": [],
   "source": [
    "# client.list_pipelines()"
   ]
  },
  {
   "cell_type": "code",
   "execution_count": 28,
   "metadata": {},
   "outputs": [
    {
     "data": {
      "text/html": [
       "Experiment link <a href=\"http://226b3e95823f7b5e-dot-us-central2.pipelines.googleusercontent.com/#/experiments/details/2b4098b6-240a-4b1c-a6bf-031f49443973\" target=\"_blank\" >here</a>"
      ],
      "text/plain": [
       "<IPython.core.display.HTML object>"
      ]
     },
     "metadata": {},
     "output_type": "display_data"
    },
    {
     "data": {
      "text/html": [
       "Run link <a href=\"http://226b3e95823f7b5e-dot-us-central2.pipelines.googleusercontent.com/#/runs/details/ca729464-5ab0-4b33-87fb-5f204fed87a5\" target=\"_blank\" >here</a>"
      ],
      "text/plain": [
       "<IPython.core.display.HTML object>"
      ]
     },
     "metadata": {},
     "output_type": "display_data"
    }
   ],
   "source": [
    "run = client.create_run_from_pipeline_func(flights_pipeline, arguments=arguments)"
   ]
  },
  {
   "cell_type": "code",
   "execution_count": 2,
   "metadata": {},
   "outputs": [
    {
     "name": "stdout",
     "output_type": "stream",
     "text": [
      "flights_pipeline.tar.gz\n"
     ]
    }
   ],
   "source": [
    "!ls *.tar.gz"
   ]
  },
  {
   "cell_type": "code",
   "execution_count": 5,
   "metadata": {},
   "outputs": [],
   "source": []
  },
  {
   "cell_type": "code",
   "execution_count": null,
   "metadata": {},
   "outputs": [],
   "source": []
  }
 ],
 "metadata": {
  "kernelspec": {
   "display_name": "Python 3",
   "language": "python",
   "name": "python3"
  },
  "language_info": {
   "codemirror_mode": {
    "name": "ipython",
    "version": 3
   },
   "file_extension": ".py",
   "mimetype": "text/x-python",
   "name": "python",
   "nbconvert_exporter": "python",
   "pygments_lexer": "ipython3",
   "version": "3.7.6"
  }
 },
 "nbformat": 4,
 "nbformat_minor": 4
}
